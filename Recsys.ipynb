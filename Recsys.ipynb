{
  "nbformat": 4,
  "nbformat_minor": 0,
  "metadata": {
    "colab": {
      "provenance": [],
      "include_colab_link": true
    },
    "kernelspec": {
      "name": "python3",
      "display_name": "Python 3"
    },
    "language_info": {
      "name": "python"
    }
  },
  "cells": [
    {
      "cell_type": "markdown",
      "metadata": {
        "id": "view-in-github",
        "colab_type": "text"
      },
      "source": [
        "<a href=\"https://colab.research.google.com/github/VidalsHugo/RecSys/blob/main/Recsys.ipynb\" target=\"_parent\"><img src=\"https://colab.research.google.com/assets/colab-badge.svg\" alt=\"Open In Colab\"/></a>"
      ]
    },
    {
      "cell_type": "code",
      "source": [
        "import numpy as np\n",
        "import pandas as pd"
      ],
      "metadata": {
        "id": "nqPF_Vu_pD0i"
      },
      "execution_count": 1,
      "outputs": []
    },
    {
      "cell_type": "code",
      "source": [
        "#UTILIZANDO DATASET MOVIELENS100K\n",
        "\n",
        "# Carrega o arquivo CSV para um DataFrame do Pandas\n",
        "df = pd.read_csv('u.data', sep='\\t', header=None, names=['user_id', 'movie_id', 'rating', 'timestamp'])\n",
        "# Descarta a coluna de timestamp\n",
        "df.drop('timestamp', axis=1, inplace=True)\n",
        "# Pivotagem dos dados para obter uma matriz de usuário-item\n",
        "matriz_user_item = df.pivot(index='user_id', columns='movie_id', values='rating')\n",
        "# Preenche os valores NaN com 0, indicando que o usuário não avaliou o item\n",
        "matriz_user_item.fillna(0, inplace=True)\n",
        "\n",
        "print(matriz_user_item.iloc[:, 70:80])"
      ],
      "metadata": {
        "id": "cOHG64ArXRH1",
        "outputId": "07dc7165-0c38-4cf6-c640-0fbb4f2f9393",
        "colab": {
          "base_uri": "https://localhost:8080/"
        }
      },
      "execution_count": 3,
      "outputs": [
        {
          "output_type": "stream",
          "name": "stdout",
          "text": [
            "movie_id   71   72   73   74   75   76   77   78   79   80\n",
            "user_id                                                   \n",
            "1         3.0  4.0  3.0  1.0  4.0  4.0  4.0  1.0  4.0  4.0\n",
            "2         0.0  0.0  0.0  0.0  0.0  0.0  0.0  0.0  0.0  0.0\n",
            "3         0.0  0.0  0.0  0.0  0.0  0.0  0.0  0.0  0.0  0.0\n",
            "4         0.0  0.0  0.0  0.0  0.0  0.0  0.0  0.0  0.0  0.0\n",
            "5         0.0  0.0  0.0  0.0  0.0  0.0  0.0  0.0  3.0  2.0\n",
            "...       ...  ...  ...  ...  ...  ...  ...  ...  ...  ...\n",
            "939       0.0  0.0  0.0  0.0  0.0  0.0  0.0  0.0  0.0  0.0\n",
            "940       0.0  0.0  0.0  0.0  0.0  0.0  0.0  0.0  0.0  0.0\n",
            "941       0.0  0.0  0.0  0.0  0.0  0.0  0.0  0.0  0.0  0.0\n",
            "942       5.0  0.0  0.0  0.0  0.0  0.0  0.0  0.0  5.0  0.0\n",
            "943       0.0  2.0  3.0  0.0  0.0  4.0  0.0  0.0  5.0  2.0\n",
            "\n",
            "[943 rows x 10 columns]\n"
          ]
        }
      ]
    },
    {
      "cell_type": "code",
      "source": [
        "def k_vizinhos_mais_proximos(matriz_user_item, user, rating_usuario, k):\n",
        "    vizinhos_mais_proximos = []\n",
        "    for vizinho in matriz_user_item.index:\n",
        "        if vizinho != user:\n",
        "            rating_vizinho = matriz_user_item.loc[vizinho].values\n",
        "\n",
        "            # Calculo da similaridade\n",
        "            produto_escalar = rating_usuario @ rating_vizinho\n",
        "            norma_usuario = np.linalg.norm(rating_usuario)\n",
        "            norma_vizinho = np.linalg.norm(rating_vizinho)\n",
        "            produto_normas = norma_usuario * norma_vizinho\n",
        "            similaridade = round(produto_escalar / produto_normas, 3) if produto_normas != 0 else 0\n",
        "            vizinhos_mais_proximos.append((vizinho, similaridade))\n",
        "\n",
        "    vizinhos_mais_proximos.sort(key=lambda x: x[1], reverse=True)\n",
        "    k_vizinhos_mais_proximos = vizinhos_mais_proximos[:k]\n",
        "    return k_vizinhos_mais_proximos\n",
        "\n",
        "def similaridade_cosseno(matriz_user_item, user, k, peso_similaridade):\n",
        "    rating_usuario = matriz_user_item.loc[user].values\n",
        "    vizinhos_mais_proximos = []\n",
        "    indices_itens_nao_avaliados = matriz_user_item.columns[rating_usuario == 0.0]\n",
        "\n",
        "    #print(f\"\\nIndices_itens_nao_avaliados: {indices_itens_nao_avaliados}\")\n",
        "\n",
        "    nota_prevista = []\n",
        "\n",
        "    k_vizinhos_proximos = k_vizinhos_mais_proximos(matriz_user_item, user, rating_usuario, k)\n",
        "\n",
        "    for i in indices_itens_nao_avaliados:\n",
        "        somatorio_nota_sing = 0\n",
        "        somatorio_sing = 0\n",
        "        for vizinho, similaridade in k_vizinhos_proximos:\n",
        "            nota_vizinho = matriz_user_item.loc[vizinho, i]\n",
        "            somatorio_nota_sing += nota_vizinho * similaridade * peso_similaridade\n",
        "            somatorio_sing += abs(similaridade * peso_similaridade)\n",
        "\n",
        "        nota_prevista.append(((somatorio_nota_sing / somatorio_sing) if somatorio_sing != 0 else 0, i))\n",
        "\n",
        "    nota_prevista.sort(reverse=True, key=lambda x: x[0])\n",
        "    #print(f\"\\nNota_prevista: {nota_prevista}\")\n",
        "    print(f\"\\nVizinhos_mais_proximos: {k_vizinhos_proximos}\")\n",
        "    nota_prevista.sort(reverse=True)\n",
        "    print(f\"\\nFilmes recomendados: \")\n",
        "    for i, filme in enumerate(nota_prevista[:10]):\n",
        "        print(f\"{i+1}# \\t{filme[1]}\")\n",
        "\n",
        "# Exemplo de chamada com o novo hiperparâmetro\n",
        "similaridade_cosseno(matriz_user_item, 1, 10, peso_similaridade=1.5)\n"
      ],
      "metadata": {
        "id": "XcTRLavuvfgf",
        "outputId": "03f8da1c-322d-4d8d-dbee-799f2bceba6a",
        "colab": {
          "base_uri": "https://localhost:8080/"
        }
      },
      "execution_count": 5,
      "outputs": [
        {
          "output_type": "stream",
          "name": "stdout",
          "text": [
            "\n",
            "Vizinhos_mais_proximos: [(916, 0.569), (864, 0.548), (268, 0.542), (92, 0.541), (435, 0.539), (457, 0.538), (738, 0.527), (303, 0.526), (429, 0.526), (276, 0.525)]\n",
            "\n",
            "Filmes recomendados: \n",
            "1# \t318\n",
            "2# \t474\n",
            "3# \t655\n",
            "4# \t423\n",
            "5# \t403\n",
            "6# \t357\n",
            "7# \t433\n",
            "8# \t385\n",
            "9# \t568\n",
            "10# \t470\n"
          ]
        }
      ]
    }
  ]
}